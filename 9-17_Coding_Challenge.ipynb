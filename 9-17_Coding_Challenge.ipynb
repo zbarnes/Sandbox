{
 "cells": [
  {
   "cell_type": "markdown",
   "metadata": {},
   "source": [
    "Given a `list` of numbers and a number `k`, return whether any two numbers from the `list` add up to `k`.\n",
    "\n",
    "For example, given [10, 15, 3, 7] and `k` of 17, return ```true``` since 10 + 7 is 17.\n",
    "\n",
    "Bonus: Can you do this in one pass?"
   ]
  },
  {
   "cell_type": "code",
   "execution_count": 1,
   "metadata": {
    "collapsed": true
   },
   "outputs": [],
   "source": [
    "def list_add_up(number_list, k):\n",
    "    # init bool return val\n",
    "    equals_k = False\n",
    "    \n",
    "    # if the list is empty it certainly can't add to k\n",
    "    if len(number_list)==0:\n",
    "        return equals_k\n",
    "    \n",
    "    # iterate over list\n",
    "    for i in range(len(number_list)):\n",
    "        for j in range(len(number_list)):\n",
    "            # if indices are the same continue to sum distinct elements\n",
    "            if i == j:\n",
    "                continue\n",
    "            # if the two elements add to k we return true\n",
    "            elif int(number_list[i])+int(number_list[j])==k:\n",
    "                equals_k = True\n",
    "                \n",
    "    return equals_k"
   ]
  },
  {
   "cell_type": "markdown",
   "metadata": {},
   "source": [
    "### Bonus: One-pass solution"
   ]
  },
  {
   "cell_type": "code",
   "execution_count": 2,
   "metadata": {},
   "outputs": [],
   "source": [
    "def list_add_bonus(number_list, k):\n",
    "    # init bool return variable\n",
    "    equals_k = False\n",
    "    # create list of elements we need to sum to k\n",
    "    need = []\n",
    "    \n",
    "    # just added this for good measure, the empty list can't add to k\n",
    "    if len(number_list)==0:\n",
    "        return equals_k\n",
    "    \n",
    "    # iterate over list\n",
    "    for i in range(len(number_list)):\n",
    "        # if the number we are on is in the need list we are done!\n",
    "        if number_list[i] in need:\n",
    "            equals_k = True\n",
    "        # else add it to the need list and keep looking\n",
    "        else: \n",
    "            need.append(k-number_list[i])\n",
    "            \n",
    "    return equals_k"
   ]
  },
  {
   "cell_type": "markdown",
   "metadata": {},
   "source": [
    "## Add some tests to check code"
   ]
  },
  {
   "cell_type": "code",
   "execution_count": 3,
   "metadata": {
    "collapsed": true
   },
   "outputs": [],
   "source": [
    "def test_sum():\n",
    "    # a few different cases to test: empty list, neg values, one value, provided example\n",
    "    test_list = [10, 15, 3, 7]\n",
    "    test_list2 = []\n",
    "    test_list3 = [5,0]\n",
    "    test_list4 = [5]\n",
    "    test_list5 = [-2, 2, 4]\n",
    "    assert(list_add_bonus(test_list, 17)) == True, \"list_add_bonus() should return True\"\n",
    "    assert(list_add_up(test_list2,17)) == False, \"list_add_up() should return False\"\n",
    "    assert(list_add_bonus(test_list, 10)) == True, \"list_add_bonus() should return True\"\n",
    "    assert(list_add_bonus(test_list, 25)) == True, \"list_add_bonus() should return True\"\n",
    "    assert(list_add_bonus(test_list, 1)) == False, \"list_add_bonus() should return False\"\n",
    "    assert(list_add_bonus(test_list, 18)) == True, \"list_add_bonus() should return True\"\n",
    "    assert(list_add_up(test_list, 17)) == True, \"list_add_up() should return True\"\n",
    "    assert(list_add_up(test_list3, 5)) == True, \"list_add_up() should return True\"\n",
    "    assert(list_add_up(test_list4, 5)) == False, \"list_add_up() should return False\"\n",
    "    assert(list_add_up(test_list5, 0)) == True, \"list_add_up() should return True\"\n",
    "    assert(list_add_up(test_list5, 2)) == True, \"list_add_up() should return True\"\n",
    "    \n",
    "    print(\"All tests passed, yay!!!\")"
   ]
  },
  {
   "cell_type": "markdown",
   "metadata": {},
   "source": [
    "### Run the tests"
   ]
  },
  {
   "cell_type": "code",
   "execution_count": 4,
   "metadata": {},
   "outputs": [
    {
     "name": "stdout",
     "output_type": "stream",
     "text": [
      "All tests passed, yay!!!\n"
     ]
    }
   ],
   "source": [
    "test_sum()"
   ]
  },
  {
   "cell_type": "code",
   "execution_count": null,
   "metadata": {},
   "outputs": [],
   "source": []
  },
  {
   "cell_type": "code",
   "execution_count": null,
   "metadata": {
    "collapsed": true
   },
   "outputs": [],
   "source": []
  }
 ],
 "metadata": {
  "kernelspec": {
   "display_name": "Python 3",
   "language": "python",
   "name": "python3"
  },
  "language_info": {
   "codemirror_mode": {
    "name": "ipython",
    "version": 3
   },
   "file_extension": ".py",
   "mimetype": "text/x-python",
   "name": "python",
   "nbconvert_exporter": "python",
   "pygments_lexer": "ipython3",
   "version": "3.6.3"
  }
 },
 "nbformat": 4,
 "nbformat_minor": 2
}
