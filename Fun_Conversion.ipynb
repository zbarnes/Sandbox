{
 "cells": [
  {
   "cell_type": "markdown",
   "metadata": {},
   "source": [
    "# A Mathematicians Way of Length Conversion"
   ]
  },
  {
   "cell_type": "markdown",
   "metadata": {},
   "source": [
    "* 1 mile $\\approx$ 1.609 kilometers\n",
    "* The ratio between two consecutive Fibonnaci numbers $\\frac{F_n}{F_{n+1}} = \\phi \\approx 1.618$ (as $n \\to \\infty)$\n",
    "* $F_n$ mile $\\approx F_{n+1}$ kilometers"
   ]
  },
  {
   "cell_type": "code",
   "execution_count": 9,
   "metadata": {
    "collapsed": true
   },
   "outputs": [],
   "source": [
    "def fib_val(n):\n",
    "    if n <= 1:\n",
    "        return n\n",
    "    else:\n",
    "        return(fib_val(n-1) + fib_val(n-2))"
   ]
  },
  {
   "cell_type": "code",
   "execution_count": 91,
   "metadata": {},
   "outputs": [],
   "source": [
    "fib_seq=[]\n",
    "# don't append the first one\n",
    "for i in range(2,23):\n",
    "    fib_seq.append(fib_val(i))"
   ]
  },
  {
   "cell_type": "code",
   "execution_count": 95,
   "metadata": {},
   "outputs": [
    {
     "data": {
      "text/plain": [
       "[1,\n",
       " 2,\n",
       " 3,\n",
       " 5,\n",
       " 8,\n",
       " 13,\n",
       " 21,\n",
       " 34,\n",
       " 55,\n",
       " 89,\n",
       " 144,\n",
       " 233,\n",
       " 377,\n",
       " 610,\n",
       " 987,\n",
       " 1597,\n",
       " 2584,\n",
       " 4181,\n",
       " 6765,\n",
       " 10946,\n",
       " 17711]"
      ]
     },
     "execution_count": 95,
     "metadata": {},
     "output_type": "execute_result"
    }
   ],
   "source": [
    "fib_seq"
   ]
  },
  {
   "cell_type": "code",
   "execution_count": 41,
   "metadata": {},
   "outputs": [],
   "source": [
    "def mile_to_km(mile):\n",
    "    return (mile*1.609)"
   ]
  },
  {
   "cell_type": "code",
   "execution_count": 92,
   "metadata": {},
   "outputs": [
    {
     "name": "stdout",
     "output_type": "stream",
     "text": [
      "1 mi is about 2 km, however, actual value is 1.609 km\n",
      "This gives an error of 0.391\n",
      "2 mi is about 3 km, however, actual value is 3.218 km\n",
      "This gives an error of 0.218\n",
      "3 mi is about 5 km, however, actual value is 4.827 km\n",
      "This gives an error of 0.173\n",
      "5 mi is about 8 km, however, actual value is 8.045 km\n",
      "This gives an error of 0.045\n",
      "8 mi is about 13 km, however, actual value is 12.872 km\n",
      "This gives an error of 0.128\n",
      "13 mi is about 21 km, however, actual value is 20.917 km\n",
      "This gives an error of 0.083\n",
      "21 mi is about 34 km, however, actual value is 33.789 km\n",
      "This gives an error of 0.211\n",
      "34 mi is about 55 km, however, actual value is 54.706 km\n",
      "This gives an error of 0.294\n",
      "55 mi is about 89 km, however, actual value is 88.495 km\n",
      "This gives an error of 0.505\n",
      "89 mi is about 144 km, however, actual value is 143.201 km\n",
      "This gives an error of 0.799\n",
      "144 mi is about 233 km, however, actual value is 231.696 km\n",
      "This gives an error of 1.304\n",
      "233 mi is about 377 km, however, actual value is 374.897 km\n",
      "This gives an error of 2.103\n",
      "377 mi is about 610 km, however, actual value is 606.593 km\n",
      "This gives an error of 3.407\n",
      "610 mi is about 987 km, however, actual value is 981.49 km\n",
      "This gives an error of 5.51\n",
      "987 mi is about 1597 km, however, actual value is 1588.083 km\n",
      "This gives an error of 8.917\n",
      "1597 mi is about 2584 km, however, actual value is 2569.573 km\n",
      "This gives an error of 14.427\n",
      "2584 mi is about 4181 km, however, actual value is 4157.656 km\n",
      "This gives an error of 23.344\n",
      "4181 mi is about 6765 km, however, actual value is 6727.229 km\n",
      "This gives an error of 37.771\n",
      "6765 mi is about 10946 km, however, actual value is 10884.885 km\n",
      "This gives an error of 61.115\n",
      "10946 mi is about 17711 km, however, actual value is 17612.114 km\n",
      "This gives an error of 98.886\n"
     ]
    }
   ],
   "source": [
    "import math\n",
    "import statistics as s\n",
    "err_list = []\n",
    "for i, val in enumerate(fib_seq):\n",
    "    if i <= len(fib_seq)-2:\n",
    "        err_std_dev = round(math.sqrt((fib_seq[i+1] - mile_to_km(val))**2),4)\n",
    "        err_list.append(err_std_dev)\n",
    "        print(str(val) + ' mi is about ' + str(fib_seq[i+1]) + ' km, however, actual value is ' + str(mile_to_km(val)) + ' km')\n",
    "        print('This gives an error of ' + str(err_std_dev))"
   ]
  },
  {
   "cell_type": "code",
   "execution_count": 97,
   "metadata": {},
   "outputs": [
    {
     "data": {
      "text/plain": [
       "12.98155"
      ]
     },
     "execution_count": 97,
     "metadata": {},
     "output_type": "execute_result"
    }
   ],
   "source": [
    "s.mean(err_list)"
   ]
  },
  {
   "cell_type": "code",
   "execution_count": 98,
   "metadata": {},
   "outputs": [
    {
     "data": {
      "text/plain": [
       "20"
      ]
     },
     "execution_count": 98,
     "metadata": {},
     "output_type": "execute_result"
    }
   ],
   "source": [
    "len(err_list)"
   ]
  },
  {
   "cell_type": "markdown",
   "metadata": {},
   "source": [
    "## Looking at the first 20 terms, the method gives us a mean standard deviation of about 13 kilometers"
   ]
  },
  {
   "cell_type": "code",
   "execution_count": null,
   "metadata": {
    "collapsed": true
   },
   "outputs": [],
   "source": []
  }
 ],
 "metadata": {
  "kernelspec": {
   "display_name": "Python 3",
   "language": "python",
   "name": "python3"
  },
  "language_info": {
   "codemirror_mode": {
    "name": "ipython",
    "version": 3
   },
   "file_extension": ".py",
   "mimetype": "text/x-python",
   "name": "python",
   "nbconvert_exporter": "python",
   "pygments_lexer": "ipython3",
   "version": "3.6.3"
  }
 },
 "nbformat": 4,
 "nbformat_minor": 2
}
