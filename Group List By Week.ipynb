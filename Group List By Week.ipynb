{
 "cells": [
  {
   "cell_type": "markdown",
   "metadata": {},
   "source": [
    "This question was asked by: ** Postmates **\n",
    "\n",
    "Given a list of timestamps in sequential order, return a list of lists grouped by week (7 days) \n",
    "using the first timestamp as the starting point."
   ]
  },
  {
   "cell_type": "markdown",
   "metadata": {},
   "source": [
    "### Helper Functions"
   ]
  },
  {
   "cell_type": "code",
   "execution_count": 1,
   "metadata": {
    "collapsed": true
   },
   "outputs": [],
   "source": [
    "def get_year(string):\n",
    "    \"\"\"\n",
    "    Helper function to get the year from an entry\n",
    "    \"\"\"\n",
    "    return int(string[0:4])"
   ]
  },
  {
   "cell_type": "code",
   "execution_count": 2,
   "metadata": {},
   "outputs": [],
   "source": [
    "def get_month(string):\n",
    "    \"\"\"\n",
    "    Helper function to get the month from an entry\n",
    "    \"\"\"\n",
    "    return int(string[5:7])"
   ]
  },
  {
   "cell_type": "code",
   "execution_count": 3,
   "metadata": {
    "collapsed": true
   },
   "outputs": [],
   "source": [
    "def get_day(string):\n",
    "    \"\"\"\n",
    "    Helper function to get the day from an entry\n",
    "    \"\"\"\n",
    "    return int(string[8:10])"
   ]
  },
  {
   "cell_type": "markdown",
   "metadata": {},
   "source": [
    "## Solution"
   ]
  },
  {
   "cell_type": "code",
   "execution_count": 8,
   "metadata": {
    "collapsed": true
   },
   "outputs": [],
   "source": [
    "def group_by_week(arr):\n",
    "    \"\"\"\n",
    "    Function returns a list of lists aggregated by week\n",
    "    \n",
    "    input : list of dates in the format YYYY-MM-DD\n",
    "    ouput: a list of lists aggregated my week starting at the first entry\n",
    "    \"\"\"\n",
    "    # extract day, month, and year info from first entry in list\n",
    "    curr_day = get_day(arr[0])\n",
    "    curr_month = get_month(arr[0])\n",
    "    curr_year = get_year(arr[0])\n",
    "    \n",
    "    # init list of lists and our group index number\n",
    "    group = [[]]\n",
    "    group_num = 0\n",
    "    \n",
    "    for date in arr:\n",
    "        # check that the day is less than seven away from start and that year and month match\n",
    "        if get_day(date) < curr_day +7 and get_month(date) == curr_month and get_year(date) == curr_year:\n",
    "            group[group_num].append(date)\n",
    "        # if not, update the current starting date and insert a new group (list) in out list of lists\n",
    "        else: \n",
    "            curr_day = get_day(date)\n",
    "            curr_month = get_month(date)\n",
    "            curr_year = get_year(date)\n",
    "            group_num += 1\n",
    "            group += [[date]]\n",
    "            \n",
    "    return group"
   ]
  },
  {
   "cell_type": "markdown",
   "metadata": {},
   "source": [
    "## Test Cases"
   ]
  },
  {
   "cell_type": "code",
   "execution_count": 9,
   "metadata": {},
   "outputs": [],
   "source": [
    "ts = [\n",
    "    '2019-01-01', \n",
    "    '2019-01-02',\n",
    "    '2019-01-08',\n",
    "    '2019-02-01', \n",
    "    '2019-02-05',\n",
    "    ]\n",
    "ts2 = [\n",
    "    '2019-01-01', \n",
    "    '2019-01-02',\n",
    "    '2019-01-08',\n",
    "    '2019-01-09',\n",
    "    '2019-01-10',\n",
    "    '2019-02-01', \n",
    "    '2019-02-05',\n",
    "    ]\n",
    "ts3 = [\n",
    "    '2019-01-01', \n",
    "    '2019-01-02',\n",
    "    '2019-01-08',\n",
    "    '2019-01-09',\n",
    "    '2019-01-10',\n",
    "    '2019-01-15',\n",
    "    '2019-02-01', \n",
    "    '2019-02-05',\n",
    "    ]\n",
    "ts4 = [\n",
    "    '2019-01-01', \n",
    "    '2019-01-02',\n",
    "    '2019-01-08',\n",
    "    '2019-01-09',\n",
    "    '2019-01-10',\n",
    "    '2019-01-15',\n",
    "    '2019-02-01', \n",
    "    '2019-02-05',\n",
    "    '2020-02-06',\n",
    "    ]"
   ]
  },
  {
   "cell_type": "code",
   "execution_count": 10,
   "metadata": {},
   "outputs": [],
   "source": [
    "def test():\n",
    "    assert(group_by_week(ts) == [['2019-01-01', '2019-01-02'], ['2019-01-08'], ['2019-02-01', '2019-02-05']])\n",
    "    assert(group_by_week(ts2) == [['2019-01-01', '2019-01-02'],['2019-01-08','2019-01-09','2019-01-10',],['2019-02-01', '2019-02-05']])\n",
    "    assert(group_by_week(ts3) == [['2019-01-01', '2019-01-02'],['2019-01-08', '2019-01-09', '2019-01-10'],['2019-01-15'],['2019-02-01', '2019-02-05']])\n",
    "    assert(group_by_week(ts4) == [['2019-01-01', '2019-01-02'],['2019-01-08', '2019-01-09', '2019-01-10'],['2019-01-15'],['2019-02-01', '2019-02-05'],['2020-02-06']])\n",
    "    print('You passed!')"
   ]
  },
  {
   "cell_type": "code",
   "execution_count": 11,
   "metadata": {},
   "outputs": [
    {
     "name": "stdout",
     "output_type": "stream",
     "text": [
      "You passed!\n"
     ]
    }
   ],
   "source": [
    "test()"
   ]
  },
  {
   "cell_type": "code",
   "execution_count": null,
   "metadata": {
    "collapsed": true
   },
   "outputs": [],
   "source": []
  }
 ],
 "metadata": {
  "kernelspec": {
   "display_name": "Python 3",
   "language": "python",
   "name": "python3"
  },
  "language_info": {
   "codemirror_mode": {
    "name": "ipython",
    "version": 3
   },
   "file_extension": ".py",
   "mimetype": "text/x-python",
   "name": "python",
   "nbconvert_exporter": "python",
   "pygments_lexer": "ipython3",
   "version": "3.6.3"
  }
 },
 "nbformat": 4,
 "nbformat_minor": 2
}
