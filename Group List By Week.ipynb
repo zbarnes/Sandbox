{
 "cells": [
  {
   "cell_type": "markdown",
   "metadata": {},
   "source": [
    "This question was asked by: ** Postmates **\n",
    "\n",
    "Given a list of timestamps in sequential order, return a list of lists grouped by week (7 days) \n",
    "using the first timestamp as the starting point."
   ]
  },
  {
   "cell_type": "code",
   "execution_count": 10,
   "metadata": {
    "collapsed": true
   },
   "outputs": [],
   "source": [
    "ts = [\n",
    "    '2019-01-01', \n",
    "    '2019-01-02',\n",
    "    '2019-01-08',\n",
    "    '2019-02-01', \n",
    "    '2019-02-05',\n",
    "    ]\n",
    "ts2 = [\n",
    "    '2019-01-01', \n",
    "    '2019-01-02',\n",
    "    '2019-01-08',\n",
    "    '2019-01-09',\n",
    "    '2019-01-10',\n",
    "    '2019-02-01', \n",
    "    '2019-02-05',\n",
    "    ]"
   ]
  },
  {
   "cell_type": "code",
   "execution_count": 11,
   "metadata": {},
   "outputs": [],
   "source": [
    "def get_month(string):\n",
    "    \"\"\"\n",
    "    Helper function to get the month from an entry\n",
    "    \"\"\"\n",
    "    return string[5:7]"
   ]
  },
  {
   "cell_type": "code",
   "execution_count": 15,
   "metadata": {
    "collapsed": true
   },
   "outputs": [],
   "source": [
    "def get_day(string):\n",
    "    \"\"\"\n",
    "    Helper function to get the day from an entry\n",
    "    \"\"\"\n",
    "    return string[8:10]"
   ]
  },
  {
   "cell_type": "code",
   "execution_count": 16,
   "metadata": {},
   "outputs": [],
   "source": [
    "def group_weeks(arr):\n",
    "    \"\"\"\n",
    "    Function returns a list of lists aggregated by week\n",
    "    \n",
    "    input : list of dates in the format YYYY-MM-DD\n",
    "    ouput: a list of lists aggregated my week starting at the first entry\n",
    "    \"\"\"\n",
    "    curr_day = int(get_day(arr[0]))\n",
    "    curr_month = int(get_month(arr[0]))\n",
    "    group = [[]]\n",
    "    group_num = 0\n",
    "    for i, day in enumerate(arr):\n",
    "        if int(get_day(day)) < curr_day +7 and int(get_month(day)) == curr_month:\n",
    "            group[group_num].append(day)\n",
    "        else: \n",
    "            curr_day = int(get_day(arr[i]))\n",
    "            curr_month = int(get_month(arr[i]))\n",
    "            group_num += 1\n",
    "            group = group + [[day]]\n",
    "    return group"
   ]
  },
  {
   "cell_type": "code",
   "execution_count": 17,
   "metadata": {},
   "outputs": [
    {
     "data": {
      "text/plain": [
       "[['2019-01-01', '2019-01-02'],\n",
       " ['2019-01-08', '2019-01-09', '2019-01-10'],\n",
       " ['2019-02-01', '2019-02-05']]"
      ]
     },
     "execution_count": 17,
     "metadata": {},
     "output_type": "execute_result"
    }
   ],
   "source": [
    "group_weeks(ts2)"
   ]
  },
  {
   "cell_type": "code",
   "execution_count": 18,
   "metadata": {},
   "outputs": [],
   "source": [
    "def test():\n",
    "    assert(group_weeks(ts) == [['2019-01-01', '2019-01-02'], ['2019-01-08'], ['2019-02-01', '2019-02-05']])\n",
    "    print('You passed!')"
   ]
  },
  {
   "cell_type": "code",
   "execution_count": 7,
   "metadata": {},
   "outputs": [
    {
     "name": "stdout",
     "output_type": "stream",
     "text": [
      "You passed!\n"
     ]
    }
   ],
   "source": [
    "test()"
   ]
  },
  {
   "cell_type": "code",
   "execution_count": null,
   "metadata": {
    "collapsed": true
   },
   "outputs": [],
   "source": []
  }
 ],
 "metadata": {
  "kernelspec": {
   "display_name": "Python 3",
   "language": "python",
   "name": "python3"
  },
  "language_info": {
   "codemirror_mode": {
    "name": "ipython",
    "version": 3
   },
   "file_extension": ".py",
   "mimetype": "text/x-python",
   "name": "python",
   "nbconvert_exporter": "python",
   "pygments_lexer": "ipython3",
   "version": "3.6.3"
  }
 },
 "nbformat": 4,
 "nbformat_minor": 2
}
