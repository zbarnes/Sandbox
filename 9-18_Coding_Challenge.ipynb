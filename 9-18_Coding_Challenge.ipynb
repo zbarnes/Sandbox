{
 "cells": [
  {
   "cell_type": "markdown",
   "metadata": {},
   "source": [
    "Given an array of integers, return a new array such that each element at index `i` of the new array is the product of all the numbers in the original array except the one at `i`.\n",
    "\n",
    "For example, if our input was [1, 2, 3, 4, 5], the expected output would be [120, 60, 40, 30, 24]. If our input was [3, 2, 1], the expected output would be [2, 3, 6].\n",
    "\n",
    "Follow-up: what if you can't use division?"
   ]
  },
  {
   "cell_type": "markdown",
   "metadata": {},
   "source": [
    "# Division Method"
   ]
  },
  {
   "cell_type": "code",
   "execution_count": 1,
   "metadata": {
    "collapsed": true
   },
   "outputs": [],
   "source": [
    "def prod_not_i(arr):\n",
    "    # init variable used to find product\n",
    "    product = 1\n",
    "    # init the return array\n",
    "    rtn_arr = [0 for _ in arr]\n",
    "    # get length of arr\n",
    "    length = len(arr)\n",
    "    \n",
    "    # find the product of all element in arr\n",
    "    for i in range(length):\n",
    "        product*=arr[i]\n",
    "    # set each element in new_arr to the product divided by that element in arr\n",
    "    for i in range(length):\n",
    "        # cast to int as float would be returned otherwise\n",
    "        rtn_arr[i] = int(product/arr[i])\n",
    "        \n",
    "    return rtn_arr"
   ]
  },
  {
   "cell_type": "markdown",
   "metadata": {},
   "source": [
    "# Not Using Division, *Note*: Solution given runs in $O(n^2)$ which could be improved to $O(n)$"
   ]
  },
  {
   "cell_type": "code",
   "execution_count": 2,
   "metadata": {
    "scrolled": true
   },
   "outputs": [],
   "source": [
    "def prod_no_div(arr):\n",
    "    # init variable used to find product\n",
    "    product = 1\n",
    "    # init the return array\n",
    "    rtn_arr = [0 for _ in arr]\n",
    "    # get length of arr\n",
    "    length = len(arr)\n",
    "    \n",
    "    # iterate through every element in new array \n",
    "    for i in range(length):\n",
    "        # compute product\n",
    "        for j in range(length):\n",
    "            # if indices are the same continue to not use that element\n",
    "            if i == j:\n",
    "                continue\n",
    "            else:\n",
    "                product*=arr[j]\n",
    "        # save computed product\n",
    "        rtn_arr[i] = product\n",
    "        \n",
    "        # set product variable back to 1 for next \n",
    "        product = 1\n",
    "        \n",
    "    return rtn_arr"
   ]
  },
  {
   "cell_type": "markdown",
   "metadata": {},
   "source": [
    "# Test Code W/ Given Cases"
   ]
  },
  {
   "cell_type": "code",
   "execution_count": 3,
   "metadata": {
    "scrolled": true
   },
   "outputs": [],
   "source": [
    "def test_prod():\n",
    "    # two given cases\n",
    "    arr1 = [1, 2, 3, 4, 5]\n",
    "    arr2 = [3,2,1]\n",
    "    \n",
    "    # test funtion that uses division\n",
    "    assert(prod_not_i(arr1) == [120, 60, 40, 30, 24]), \"Function should return [120, 60, 40, 30, 24]\"\n",
    "    assert(prod_not_i(arr2) == [2, 3, 6]), \"Function should return [2, 3, 6]\"\n",
    "    \n",
    "    # test funtion that doesn't use division\n",
    "    assert(prod_no_div(arr1) == [120, 60, 40, 30, 24]), \"Function should return [120, 60, 40, 30, 24]\"\n",
    "    assert(prod_no_div(arr2) == [2, 3, 6]), \"Function should return [2, 3, 6]\"\n",
    "    \n",
    "    print(\"All tests passed, yay!!!\")"
   ]
  },
  {
   "cell_type": "code",
   "execution_count": 4,
   "metadata": {
    "scrolled": true
   },
   "outputs": [
    {
     "name": "stdout",
     "output_type": "stream",
     "text": [
      "All tests passed, yay!!!\n"
     ]
    }
   ],
   "source": [
    "test_prod()"
   ]
  },
  {
   "cell_type": "markdown",
   "metadata": {},
   "source": []
  },
  {
   "cell_type": "code",
   "execution_count": null,
   "metadata": {
    "collapsed": true
   },
   "outputs": [],
   "source": []
  }
 ],
 "metadata": {
  "kernelspec": {
   "display_name": "Python 3",
   "language": "python",
   "name": "python3"
  },
  "language_info": {
   "codemirror_mode": {
    "name": "ipython",
    "version": 3
   },
   "file_extension": ".py",
   "mimetype": "text/x-python",
   "name": "python",
   "nbconvert_exporter": "python",
   "pygments_lexer": "ipython3",
   "version": "3.6.3"
  }
 },
 "nbformat": 4,
 "nbformat_minor": 2
}
